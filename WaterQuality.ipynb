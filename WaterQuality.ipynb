{
  "nbformat": 4,
  "nbformat_minor": 0,
  "metadata": {
    "colab": {
      "name": "WaterQuality.ipynb",
      "provenance": []
    },
    "kernelspec": {
      "name": "python3",
      "display_name": "Python 3"
    }
  },
  "cells": [
    {
      "cell_type": "code",
      "metadata": {
        "id": "Go7WliMrsnY1",
        "colab_type": "code",
        "colab": {}
      },
      "source": [
        "!pip install -U -q PyDrive\n",
        "from pydrive.auth import GoogleAuth\n",
        "from pydrive.drive import GoogleDrive\n",
        "from google.colab import auth\n",
        "from oauth2client.client import GoogleCredentials\n",
        "# Authenticate and create the PyDrive client.\n",
        "auth.authenticate_user()\n",
        "gauth = GoogleAuth()\n",
        "gauth.credentials = GoogleCredentials.get_application_default()\n",
        "drive = GoogleDrive(gauth)"
      ],
      "execution_count": 12,
      "outputs": []
    },
    {
      "cell_type": "code",
      "metadata": {
        "id": "YUlN30tSsuzs",
        "colab_type": "code",
        "colab": {}
      },
      "source": [
        "link = 'https://drive.google.com/open?id=1uBkTIkkDhjaIJSoTVny6yrZWdGLGXZPq'"
      ],
      "execution_count": 14,
      "outputs": []
    },
    {
      "cell_type": "code",
      "metadata": {
        "id": "NwpdDTPHtnn8",
        "colab_type": "code",
        "colab": {}
      },
      "source": [
        "fluff, id = link.split('=')\n",
        "print (id) "
      ],
      "execution_count": null,
      "outputs": []
    },
    {
      "cell_type": "code",
      "metadata": {
        "id": "e4HnOArRtsgm",
        "colab_type": "code",
        "colab": {}
      },
      "source": [
        "downloaded = drive.CreateFile({'id':id}) \n",
        "downloaded.GetContentFile('WaterQualityData.csv')  \n",
        "df3 = pd.read_csv('WaterQualityData.csv')"
      ],
      "execution_count": 17,
      "outputs": []
    },
    {
      "cell_type": "code",
      "metadata": {
        "id": "DDY5sbqgt9DZ",
        "colab_type": "code",
        "colab": {
          "base_uri": "https://localhost:8080/",
          "height": 255
        },
        "outputId": "2c8b8bc0-a9f3-4712-fb75-353d3e4cbb6b"
      },
      "source": [
        "import pandas as pd\n",
        "WQI_parameters = pd.read_csv('WaterQualityData.csv')\n",
        "df = pd.DataFrame(WQI_parameters, columns=[\"pH\",\"TN\",\"BOD5\",\"TP\",\"NH3+\",\"COD\", \"Iron\", \"Copper\", \"Zinc\",\"DO\",\"TDS\",\"Ca\",\"Mg\",\"Na\",\"Cl-\",\"HCO\", \"SO4\", \"PO4\",\"Cr\"])\n",
        "print (df)"
      ],
      "execution_count": 18,
      "outputs": [
        {
          "output_type": "stream",
          "text": [
            "        pH    TN  BOD5    TP  NH3+  ...      Cl-  HCO  SO4   PO4    Cr\n",
            "0     8.31  0.87  6.24  0.69  5.44  ...  3801.28  NaN  NaN  1.64  0.14\n",
            "1     8.01  6.38  2.90  0.20  0.38  ...  7774.27  NaN  NaN  0.92  0.15\n",
            "2     7.99  5.92  3.18  0.06  8.32  ...  3215.93  NaN  NaN  1.48  0.04\n",
            "3     8.41  0.64  2.88  0.31  3.78  ...  8464.36  NaN  NaN  0.08  0.09\n",
            "4     8.39  0.95  6.50  0.37  0.61  ...  5962.02  NaN  NaN  1.17  0.07\n",
            "...    ...   ...   ...   ...   ...  ...      ...  ...  ...   ...   ...\n",
            "4995  7.79  0.37  7.35  0.59  2.19  ...  4612.34  NaN  NaN  1.04  0.03\n",
            "4996  8.16  2.00  5.89  0.12  2.09  ...   814.82  NaN  NaN  0.74  0.11\n",
            "4997  7.71  2.63  2.83  0.97  0.75  ...  4234.54  NaN  NaN  1.59  0.10\n",
            "4998  8.06  3.54  2.58  0.07  6.20  ...  7671.92  NaN  NaN  0.34  0.06\n",
            "4999  7.93  0.84  3.19  0.50  9.12  ...  5498.40  NaN  NaN  1.50  0.01\n",
            "\n",
            "[5000 rows x 19 columns]\n"
          ],
          "name": "stdout"
        }
      ]
    },
    {
      "cell_type": "code",
      "metadata": {
        "id": "PV5m9dPkt_LC",
        "colab_type": "code",
        "colab": {}
      },
      "source": [
        "df = df.fillna(0)"
      ],
      "execution_count": 19,
      "outputs": []
    },
    {
      "cell_type": "code",
      "metadata": {
        "id": "S2U9ZB0XuHAn",
        "colab_type": "code",
        "colab": {}
      },
      "source": [
        "import numpy as np\n",
        "W = np.array([0.072, 0.054, 0.091, 0.054, 0.054, 0.072, 0.018, 0.018, 0.036, 0.018, 0.018, 0.036, 0.036, 0.036, 0.054, 0.054, 0.072, 0.091, 0.018])\n",
        "S = np.array([7.65, 0.50, 3.00, 0.10, 0.50, 15.00, 0.30, 1.00, 1.00, 6.00, 450.00, 300.00, 30.00, 200.00, 250.00, 1, 250.00, 50.00, 0.05])\n",
        "df_y = pd.DataFrame(columns=['WQI'])\n",
        "for index, row in df.iterrows():\n",
        "  \tC = np.array(row)\n",
        "  \tQ = (C / S) * 100\n",
        "  \tSI = W * Q\n",
        "  \tdf_y.loc[index] = [np.sum(SI)]"
      ],
      "execution_count": 20,
      "outputs": []
    },
    {
      "cell_type": "code",
      "metadata": {
        "id": "Qg1JYXgxuPee",
        "colab_type": "code",
        "colab": {
          "base_uri": "https://localhost:8080/",
          "height": 282
        },
        "outputId": "2ec8ee51-1763-45b9-ca3f-f6f8c6050051"
      },
      "source": [
        "df_y.plot(style=[\"o\"])"
      ],
      "execution_count": 21,
      "outputs": [
        {
          "output_type": "execute_result",
          "data": {
            "text/plain": [
              "<matplotlib.axes._subplots.AxesSubplot at 0x7f85660fe940>"
            ]
          },
          "metadata": {
            "tags": []
          },
          "execution_count": 21
        },
        {
          "output_type": "display_data",
          "data": {
            "image/png": "[encoded data removed]",
            "text/plain": [
              "<Figure size 432x288 with 1 Axes>"
            ]
          },
          "metadata": {
            "tags": [],
            "needs_background": "light"
          }
        }
      ]
    },
    {
      "cell_type": "code",
      "metadata": {
        "id": "f9fMGxjkuSmc",
        "colab_type": "code",
        "colab": {
          "base_uri": "https://localhost:8080/",
          "height": 51
        },
        "outputId": "09ecca2b-dbf9-44f5-fc97-036d471cef0b"
      },
      "source": [
        "df_y[(df_y['WQI'] > 800.00)].count()"
      ],
      "execution_count": 22,
      "outputs": [
        {
          "output_type": "execute_result",
          "data": {
            "text/plain": [
              "WQI    577\n",
              "dtype: int64"
            ]
          },
          "metadata": {
            "tags": []
          },
          "execution_count": 22
        }
      ]
    },
    {
      "cell_type": "code",
      "metadata": {
        "id": "SoeyLddBuWRi",
        "colab_type": "code",
        "colab": {}
      },
      "source": [
        "import numpy\n",
        "import pandas\n",
        "from keras.models import Sequential\n",
        "from keras.layers import Dense\n",
        "from keras.wrappers.scikit_learn import KerasRegressor\n",
        "from sklearn.model_selection import cross_val_score\n",
        "from sklearn.model_selection import KFold\n",
        "from sklearn.preprocessing import StandardScaler\n",
        "from sklearn.pipeline import Pipeline"
      ],
      "execution_count": 26,
      "outputs": []
    },
    {
      "cell_type": "code",
      "metadata": {
        "id": "-Bq0vdTUurVn",
        "colab_type": "code",
        "colab": {}
      },
      "source": [
        "X = df\n",
        "Y = df_y"
      ],
      "execution_count": 27,
      "outputs": []
    },
    {
      "cell_type": "code",
      "metadata": {
        "id": "JmyFQAyfutFJ",
        "colab_type": "code",
        "colab": {}
      },
      "source": [
        "# define base model\n",
        "def baseline_model():\n",
        "# create model\n",
        "\tmodel = Sequential()\n",
        "\tmodel.add(Dense(19, input_dim=19, kernel_initializer='normal', activation='relu'))\n",
        "\tmodel.add(Dense(1, kernel_initializer='normal'))\n",
        "\t# Compile model\n",
        "\tmodel.compile(loss='mean_squared_error', optimizer='adam')\n",
        "\treturn model"
      ],
      "execution_count": 30,
      "outputs": []
    },
    {
      "cell_type": "code",
      "metadata": {
        "id": "QZOgT4yQvZCU",
        "colab_type": "code",
        "colab": {}
      },
      "source": [
        "# fix random seed for reproducibility\n",
        "seed = 7\n",
        "numpy.random.seed(seed)\n",
        "\n",
        "# evaluate model with standardized dataset\n",
        "estimator = KerasRegressor(build_fn=baseline_model, epochs=100, batch_size=5, verbose=0)"
      ],
      "execution_count": 31,
      "outputs": []
    },
    {
      "cell_type": "code",
      "metadata": {
        "id": "9YjNYk8tvddV",
        "colab_type": "code",
        "colab": {}
      },
      "source": [
        "kfold = KFold(n_splits=10, random_state=seed)\n",
        "results = cross_val_score(estimator, X, Y, cv=kfold)\n",
        "print(\"Results: %.2f (%.2f) MSE\" % (results.mean(), results.std()))"
      ],
      "execution_count": null,
      "outputs": []
    },
    {
      "cell_type": "code",
      "metadata": {
        "id": "gcF65kW-vtQI",
        "colab_type": "code",
        "colab": {}
      },
      "source": [
        "# evaluate model with standardized dataset\n",
        "numpy.random.seed(seed)\n",
        "estimators = []\n",
        "estimators.append(('standardize', StandardScaler()))\n",
        "estimators.append(('mlp', KerasRegressor(build_fn=baseline_model, epochs=50, batch_size=5, verbose=0)))\n",
        "pipeline = Pipeline(estimators)\n",
        "kfold = KFold(n_splits=10, random_state=seed)\n",
        "results = cross_val_score(pipeline, X, Y, cv=kfold)\n",
        "print(\"Standardized: %.2f (%.2f) MSE\" % (results.mean(), results.std()))\n"
      ],
      "execution_count": null,
      "outputs": []
    },
    {
      "cell_type": "code",
      "metadata": {
        "id": "Eie0YgKgwBe0",
        "colab_type": "code",
        "colab": {}
      },
      "source": [
        "def larger_model():\n",
        "# create model\n",
        "model = Sequential()\n",
        "model.add(Dense(19, input_dim=19, kernel_initializer='normal', activation='relu'))\n",
        "model.add(Dense(9, kernel_initializer='normal', activation='relu'))\n",
        "model.add(Dense(1, kernel_initializer='normal'))"
      ],
      "execution_count": null,
      "outputs": []
    },
    {
      "cell_type": "code",
      "metadata": {
        "id": "lkSM9C9swKV7",
        "colab_type": "code",
        "colab": {}
      },
      "source": [
        "# Compile model\n",
        "model.compile(loss='mean_squared_error', optimizer='adam')\n",
        "return model\n",
        "numpy.random.seed(seed)\n",
        "estimators = []\n",
        "estimators.append(('standardize', StandardScaler()))\n",
        "estimators.append(('mlp', KerasRegressor(build_fn=larger_model, epochs=50, batch_size=5, verbose=0)))\n",
        "pipeline = Pipeline(estimators)\n",
        "kfold = KFold(n_splits=10, random_state=seed)\n",
        "results = cross_val_score(pipeline, X, Y, cv=kfold)\n",
        "print(\"Larger: %.2f (%.2f) MSE\" % (results.mean(), results.std()))"
      ],
      "execution_count": null,
      "outputs": []
    }
  ]
}